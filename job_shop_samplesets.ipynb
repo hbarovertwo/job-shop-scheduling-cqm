{
 "cells": [
  {
   "cell_type": "markdown",
   "metadata": {},
   "source": [
    "# Working with samplesets"
   ]
  },
  {
   "cell_type": "markdown",
   "metadata": {},
   "source": [
    "First, we need a CQM model to submit to the CQM Hybrid Solver through Leap.<br>\n",
    "For this example, we will submit a job shop scheduling problem modeled as a CQM.\n",
    "\n",
    "### Build a Job Shop Scheduling CQM"
   ]
  },
  {
   "cell_type": "code",
   "execution_count": null,
   "metadata": {},
   "outputs": [],
   "source": [
    "from utils.utils import print_cqm_stats\n",
    "from data import Data\n",
    "from job_shop_scheduler import JSSCQM\n",
    "\n",
    "jss_data = Data(\"./input/instance3_3.txt\")\n",
    "jss_data.read_input_data()\n",
    "\n",
    "model = JSSCQM()\n",
    "model.define_cqm_model()\n",
    "model.define_variables(jss_data)\n",
    "model.add_precedence_constraints(jss_data)\n",
    "model.add_quadratic_overlap_constraint(jss_data)\n",
    "model.add_makespan_constraint(jss_data)\n",
    "\n",
    "model.define_objective_function()\n",
    "\n",
    "print_cqm_stats(model.cqm)"
   ]
  },
  {
   "cell_type": "markdown",
   "metadata": {},
   "source": [
    "### Get a sampleset by submitting the CQM to the solver"
   ]
  },
  {
   "cell_type": "code",
   "execution_count": null,
   "metadata": {},
   "outputs": [],
   "source": [
    "from dwave.system import LeapHybridCQMSampler\n",
    "\n",
    "cqm_sampler = LeapHybridCQMSampler()\n",
    "\n",
    "sampleset = cqm_sampler.sample_cqm(model.cqm, time_limit=5)"
   ]
  },
  {
   "cell_type": "markdown",
   "metadata": {},
   "source": [
    "#### Raw samplesets are best viewed with a print call"
   ]
  },
  {
   "cell_type": "code",
   "execution_count": null,
   "metadata": {},
   "outputs": [],
   "source": [
    "print(sampleset)"
   ]
  },
  {
   "cell_type": "markdown",
   "metadata": {},
   "source": [
    "#### Get some useful metrics for potential plots you might want to generate!<br>Reported times are measured in microseconds."
   ]
  },
  {
   "cell_type": "code",
   "execution_count": null,
   "metadata": {},
   "outputs": [],
   "source": [
    "sampleset.info"
   ]
  },
  {
   "cell_type": "markdown",
   "metadata": {},
   "source": [
    "#### What about the solution quality?<br>We can look at the best solution in general (maybe infeasible) or filter for the best feasible solution found."
   ]
  },
  {
   "cell_type": "code",
   "execution_count": null,
   "metadata": {},
   "outputs": [],
   "source": [
    "# Best solution (objective minimized)\n",
    "print(sampleset.first, \"\\n\")\n",
    "\n",
    "print(\"Sample energy: \", sampleset.first.energy)\n",
    "print(\"Are all constraints satisfied? \", sampleset.first.is_feasible)"
   ]
  },
  {
   "cell_type": "markdown",
   "metadata": {},
   "source": [
    "#### Let's filter for the best feasible sample - where all hard constraints are satisfied."
   ]
  },
  {
   "cell_type": "code",
   "execution_count": null,
   "metadata": {},
   "outputs": [],
   "source": [
    "feasible_sampleset = sampleset.filter(lambda d:d.is_feasible)\n",
    "\n",
    "print(feasible_sampleset)"
   ]
  },
  {
   "cell_type": "code",
   "execution_count": null,
   "metadata": {},
   "outputs": [],
   "source": [
    "# The best feasible solution found is then\n",
    "print(feasible_sampleset.first, \"\\n\")\n",
    "\n",
    "print(\"Sample energy: \", feasible_sampleset.first.energy)\n",
    "print(\"Are all constraints satisfied? \", feasible_sampleset.first.is_feasible)"
   ]
  },
  {
   "cell_type": "markdown",
   "metadata": {},
   "source": [
    "#### The sampleset is a valuable object to understand when building quantum hybrid applications.<br><br>From the sampleset you will parse the results in a way that makes sense in the context of your applications.<br>You will find these most valuable when charting performance, charting solution quality, or building out visualizations of your solution that are as interactive as they need to be!"
   ]
  }
 ],
 "metadata": {
  "kernelspec": {
   "display_name": "job_shop",
   "language": "python",
   "name": "job_shop"
  },
  "language_info": {
   "codemirror_mode": {
    "name": "ipython",
    "version": 3
   },
   "file_extension": ".py",
   "mimetype": "text/x-python",
   "name": "python",
   "nbconvert_exporter": "python",
   "pygments_lexer": "ipython3",
   "version": "3.8.3"
  }
 },
 "nbformat": 4,
 "nbformat_minor": 4
}
