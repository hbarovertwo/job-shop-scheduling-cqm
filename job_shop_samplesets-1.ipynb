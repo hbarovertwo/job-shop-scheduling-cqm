{
 "cells": [
  {
   "cell_type": "markdown",
   "metadata": {},
   "source": [
    "# Working with samplesets"
   ]
  },
  {
   "cell_type": "markdown",
   "metadata": {},
   "source": [
    "First, we need a model to submit to the CQM Hybrid Solver through Leap.<br>\n",
    "For this example, we will submit a CQM based on a Quadratic Assignment Problem.\n",
    "\n",
    "### Build a CQM"
   ]
  },
  {
   "cell_type": "code",
   "execution_count": 49,
   "metadata": {},
   "outputs": [
    {
     "name": "stdout",
     "output_type": "stream",
     "text": [
      "Number of Variables: 4 4\n"
     ]
    }
   ],
   "source": [
    "from dimod import ConstrainedQuadraticModel\n",
    "import random\n",
    "\n",
    "# Set size parameter. Model will have n^2 variables.\n",
    "n=2\n",
    "\n",
    "# Instantiate CQM and add grid of variables\n",
    "cqm = ConstrainedQuadraticModel()\n",
    "cqm.add_variables('BINARY', [(a,b) for a in range(n) for b in range(n)])\n",
    "\n",
    "# Add psuedorandom dense objective.\n",
    "random.seed(1)\n",
    "cqm.set_objective([(v,w,random.randint(5,20)) for v in cqm.variables for w in cqm.variables])\n",
    "\n",
    "# Add assignment constraint.\n",
    "for i in range(n):\n",
    "    cqm.add_constraint_from_iterable([((i,j), 1) for j in range(n)], '==', rhs=1, label=f'({i},*)')\n",
    "    cqm.add_constraint_from_iterable([((j,i), 1) for j in range(n)], '==', rhs=1, label=f'(*, {i})')\n",
    "    \n",
    "print('Number of Variables:', len(cqm.variables))"
   ]
  },
  {
   "cell_type": "markdown",
   "metadata": {},
   "source": [
    "### Get a sampleset by submitting the CQM to the solver"
   ]
  },
  {
   "cell_type": "code",
   "execution_count": 50,
   "metadata": {},
   "outputs": [],
   "source": [
    "from dwave.system import LeapHybridCQMSampler\n",
    "\n",
    "cqm_sampler = LeapHybridCQMSampler()\n",
    "\n",
    "sampleset = cqm_sampler.sample_cqm(cqm, time_limit=5)"
   ]
  },
  {
   "cell_type": "markdown",
   "metadata": {},
   "source": [
    "#### Raw samplesets are best viewed with a print call"
   ]
  },
  {
   "cell_type": "code",
   "execution_count": 51,
   "metadata": {},
   "outputs": [
    {
     "name": "stdout",
     "output_type": "stream",
     "text": [
      "    (0, 0) (0, 1) (1, 0) (1, 1) energy num_oc. is_sat. is_fea.\n",
      "96     1.0    0.0    0.0    0.0    9.0       1 arra...   False\n",
      "97     1.0    0.0    0.0    0.0    9.0       1 arra...   False\n",
      "98     1.0    0.0    0.0    0.0    9.0       1 arra...   False\n",
      "99     1.0    0.0    0.0    0.0    9.0       1 arra...   False\n",
      "100    1.0    0.0    0.0    0.0    9.0       1 arra...   False\n",
      "101    1.0    0.0    0.0    0.0    9.0       1 arra...   False\n",
      "102    1.0    0.0    0.0    0.0    9.0       1 arra...   False\n",
      "103    1.0    0.0    0.0    0.0    9.0       1 arra...   False\n",
      "104    1.0    0.0    0.0    0.0    9.0       1 arra...   False\n",
      "105    0.0    0.0    0.0    1.0   19.0       1 arra...   False\n",
      "106    0.0    0.0    0.0    1.0   19.0       1 arra...   False\n",
      "107    0.0    1.0    0.0    0.0   19.0       1 arra...   False\n",
      "108    0.0    1.0    0.0    0.0   19.0       1 arra...   False\n",
      "109    0.0    0.0    0.0    1.0   19.0       1 arra...   False\n",
      "110    0.0    0.0    0.0    1.0   19.0       1 arra...   False\n",
      "111    0.0    0.0    0.0    1.0   19.0       1 arra...   False\n",
      "112    0.0    1.0    0.0    0.0   19.0       1 arra...   False\n",
      "113    0.0    0.0    0.0    1.0   19.0       1 arra...   False\n",
      "114    0.0    0.0    1.0    0.0   20.0       1 arra...   False\n",
      "115    0.0    0.0    1.0    0.0   20.0       1 arra...   False\n",
      "116    0.0    0.0    1.0    0.0   20.0       1 arra...   False\n",
      "117    0.0    0.0    1.0    0.0   20.0       1 arra...   False\n",
      "118    0.0    0.0    1.0    0.0   20.0       1 arra...   False\n",
      "119    0.0    0.0    1.0    0.0   20.0       1 arra...   False\n",
      "0      1.0    0.0    0.0    1.0   53.0       1 arra...    True\n",
      "1      1.0    0.0    0.0    1.0   53.0       1 arra...    True\n",
      "2      1.0    0.0    0.0    1.0   53.0       1 arra...    True\n",
      "3      1.0    0.0    0.0    1.0   53.0       1 arra...    True\n",
      "4      1.0    0.0    0.0    1.0   53.0       1 arra...    True\n",
      "6      1.0    0.0    0.0    1.0   53.0       1 arra...    True\n",
      "7      1.0    0.0    0.0    1.0   53.0       1 arra...    True\n",
      "8      1.0    0.0    0.0    1.0   53.0       1 arra...    True\n",
      "9      1.0    0.0    0.0    1.0   53.0       1 arra...    True\n",
      "10     1.0    0.0    0.0    1.0   53.0       1 arra...    True\n",
      "11     1.0    0.0    0.0    1.0   53.0       1 arra...    True\n",
      "12     1.0    0.0    0.0    1.0   53.0       1 arra...    True\n",
      "13     1.0    0.0    0.0    1.0   53.0       1 arra...    True\n",
      "14     1.0    0.0    0.0    1.0   53.0       1 arra...    True\n",
      "15     1.0    0.0    0.0    1.0   53.0       1 arra...    True\n",
      "16     1.0    0.0    0.0    1.0   53.0       1 arra...    True\n",
      "17     1.0    0.0    0.0    1.0   53.0       1 arra...    True\n",
      "18     1.0    0.0    0.0    1.0   53.0       1 arra...    True\n",
      "19     1.0    0.0    0.0    1.0   53.0       1 arra...    True\n",
      "20     1.0    0.0    0.0    1.0   53.0       1 arra...    True\n",
      "21     1.0    0.0    0.0    1.0   53.0       1 arra...    True\n",
      "22     1.0    0.0    0.0    1.0   53.0       1 arra...    True\n",
      "23     1.0    0.0    0.0    1.0   53.0       1 arra...    True\n",
      "24     1.0    0.0    0.0    1.0   53.0       1 arra...    True\n",
      "25     1.0    0.0    0.0    1.0   53.0       1 arra...    True\n",
      "26     1.0    0.0    0.0    1.0   53.0       1 arra...    True\n",
      "27     1.0    0.0    0.0    1.0   53.0       1 arra...    True\n",
      "28     1.0    0.0    0.0    1.0   53.0       1 arra...    True\n",
      "29     1.0    0.0    0.0    1.0   53.0       1 arra...    True\n",
      "30     1.0    0.0    0.0    1.0   53.0       1 arra...    True\n",
      "31     1.0    0.0    0.0    1.0   53.0       1 arra...    True\n",
      "32     1.0    0.0    0.0    1.0   53.0       1 arra...    True\n",
      "33     1.0    0.0    0.0    1.0   53.0       1 arra...    True\n",
      "34     1.0    0.0    0.0    1.0   53.0       1 arra...    True\n",
      "35     1.0    0.0    0.0    1.0   53.0       1 arra...    True\n",
      "36     1.0    0.0    0.0    1.0   53.0       1 arra...    True\n",
      "37     1.0    0.0    0.0    1.0   53.0       1 arra...    True\n",
      "38     1.0    0.0    0.0    1.0   53.0       1 arra...    True\n",
      "39     1.0    0.0    0.0    1.0   53.0       1 arra...    True\n",
      "40     1.0    0.0    0.0    1.0   53.0       1 arra...    True\n",
      "41     1.0    0.0    0.0    1.0   53.0       1 arra...    True\n",
      "42     1.0    0.0    0.0    1.0   53.0       1 arra...    True\n",
      "43     1.0    0.0    0.0    1.0   53.0       1 arra...    True\n",
      "44     1.0    0.0    0.0    1.0   53.0       1 arra...    True\n",
      "45     1.0    0.0    0.0    1.0   53.0       1 arra...    True\n",
      "46     1.0    0.0    0.0    1.0   53.0       1 arra...    True\n",
      "47     1.0    0.0    0.0    1.0   53.0       1 arra...    True\n",
      "48     1.0    0.0    0.0    1.0   53.0       1 arra...    True\n",
      "49     1.0    0.0    0.0    1.0   53.0       1 arra...    True\n",
      "50     1.0    0.0    0.0    1.0   53.0       1 arra...    True\n",
      "51     1.0    0.0    0.0    1.0   53.0       1 arra...    True\n",
      "52     1.0    0.0    0.0    1.0   53.0       1 arra...    True\n",
      "53     1.0    0.0    0.0    1.0   53.0       1 arra...    True\n",
      "54     1.0    0.0    0.0    1.0   53.0       1 arra...    True\n",
      "55     1.0    0.0    0.0    1.0   53.0       1 arra...    True\n",
      "56     1.0    0.0    0.0    1.0   53.0       1 arra...    True\n",
      "57     1.0    0.0    0.0    1.0   53.0       1 arra...    True\n",
      "58     1.0    0.0    0.0    1.0   53.0       1 arra...    True\n",
      "59     1.0    0.0    0.0    1.0   53.0       1 arra...    True\n",
      "60     1.0    0.0    0.0    1.0   53.0       1 arra...    True\n",
      "61     1.0    0.0    0.0    1.0   53.0       1 arra...    True\n",
      "62     1.0    0.0    0.0    1.0   53.0       1 arra...    True\n",
      "63     1.0    0.0    0.0    1.0   53.0       1 arra...    True\n",
      "64     1.0    0.0    0.0    1.0   53.0       1 arra...    True\n",
      "65     1.0    0.0    0.0    1.0   53.0       1 arra...    True\n",
      "66     1.0    0.0    0.0    1.0   53.0       1 arra...    True\n",
      "67     1.0    0.0    0.0    1.0   53.0       1 arra...    True\n",
      "68     1.0    0.0    0.0    1.0   53.0       1 arra...    True\n",
      "69     1.0    0.0    0.0    1.0   53.0       1 arra...    True\n",
      "70     1.0    0.0    0.0    1.0   53.0       1 arra...    True\n",
      "71     1.0    0.0    0.0    1.0   53.0       1 arra...    True\n",
      "72     1.0    0.0    0.0    1.0   53.0       1 arra...    True\n",
      "73     1.0    0.0    0.0    1.0   53.0       1 arra...    True\n",
      "74     1.0    0.0    0.0    1.0   53.0       1 arra...    True\n",
      "75     1.0    0.0    0.0    1.0   53.0       1 arra...    True\n",
      "76     1.0    0.0    0.0    1.0   53.0       1 arra...    True\n",
      "77     1.0    0.0    0.0    1.0   53.0       1 arra...    True\n",
      "78     1.0    0.0    0.0    1.0   53.0       1 arra...    True\n",
      "79     1.0    0.0    0.0    1.0   53.0       1 arra...    True\n",
      "80     1.0    0.0    0.0    1.0   53.0       1 arra...    True\n",
      "81     1.0    0.0    0.0    1.0   53.0       1 arra...    True\n",
      "82     1.0    0.0    0.0    1.0   53.0       1 arra...    True\n",
      "83     1.0    0.0    0.0    1.0   53.0       1 arra...    True\n",
      "84     1.0    0.0    0.0    1.0   53.0       1 arra...    True\n",
      "85     1.0    0.0    0.0    1.0   53.0       1 arra...    True\n",
      "86     1.0    0.0    0.0    1.0   53.0       1 arra...    True\n",
      "87     1.0    0.0    0.0    1.0   53.0       1 arra...    True\n",
      "5      0.0    1.0    1.0    0.0   67.0       1 arra...    True\n",
      "88     0.0    1.0    1.0    0.0   67.0       1 arra...    True\n",
      "89     0.0    1.0    1.0    0.0   67.0       1 arra...    True\n",
      "90     0.0    1.0    1.0    0.0   67.0       1 arra...    True\n",
      "91     0.0    1.0    1.0    0.0   67.0       1 arra...    True\n",
      "92     0.0    1.0    1.0    0.0   67.0       1 arra...    True\n",
      "93     0.0    1.0    1.0    0.0   67.0       1 arra...    True\n",
      "94     0.0    1.0    1.0    0.0   67.0       1 arra...    True\n",
      "95     0.0    1.0    1.0    0.0   67.0       1 arra...    True\n",
      "['INTEGER', 120 rows, 120 samples, 4 variables]\n"
     ]
    }
   ],
   "source": [
    "print(sampleset)"
   ]
  },
  {
   "cell_type": "markdown",
   "metadata": {},
   "source": [
    "#### Get some useful metrics for potential plots you might want to generate!<br>Reported times are measured in microseconds."
   ]
  },
  {
   "cell_type": "code",
   "execution_count": 52,
   "metadata": {},
   "outputs": [
    {
     "name": "stdout",
     "output_type": "stream",
     "text": [
      "constraint_labels ['(*, 1)', '(1,*)', '(0,*)', '(*, 0)'] \n",
      "\n",
      "qpu_access_time 31723 \n",
      "\n",
      "charge_time 5000000 \n",
      "\n",
      "run_time 5104433 \n",
      "\n",
      "problem_id 1b0c4a64-7136-4b6c-a594-eecebe7b1866 \n",
      "\n"
     ]
    }
   ],
   "source": [
    "for key, value in sampleset.info.items():\n",
    "    print(key, value,'\\n')"
   ]
  },
  {
   "cell_type": "markdown",
   "metadata": {},
   "source": [
    "#### What about the solution quality?<br>We can look at the best solution in general (maybe infeasible) or filter for the best feasible solution found."
   ]
  },
  {
   "cell_type": "code",
   "execution_count": 56,
   "metadata": {},
   "outputs": [
    {
     "name": "stdout",
     "output_type": "stream",
     "text": [
      "Sample(sample={(0, 0): 1.0, (0, 1): 0.0, (1, 0): 0.0, (1, 1): 0.0}, energy=9.0, num_occurrences=1, is_satisfied=array([False, False,  True,  True]), is_feasible=False) \n",
      "\n",
      "Sample energy:  9.0 \n",
      "\n",
      "Are all constraints satisfied?  False\n"
     ]
    }
   ],
   "source": [
    "# Best solution (objective minimized)\n",
    "print(sampleset.first, \"\\n\")\n",
    "\n",
    "print(\"Sample energy: \", sampleset.first.energy, \"\\n\")\n",
    "\n",
    "print(\"Are all constraints satisfied? \", sampleset.first.is_feasible)"
   ]
  },
  {
   "cell_type": "markdown",
   "metadata": {},
   "source": [
    "#### Let's filter for the best feasible sample - where all hard constraints are satisfied."
   ]
  },
  {
   "cell_type": "code",
   "execution_count": 64,
   "metadata": {
    "scrolled": true
   },
   "outputs": [
    {
     "name": "stdout",
     "output_type": "stream",
     "text": [
      "# Samples: 120\n",
      "# Feasible: 96\n",
      "   (0, 0) (0, 1) (1, 0) (1, 1) energy num_oc. is_sat. is_fea.\n",
      "0     1.0    0.0    0.0    1.0   53.0       1 arra...    True\n",
      "1     1.0    0.0    0.0    1.0   53.0       1 arra...    True\n",
      "2     1.0    0.0    0.0    1.0   53.0       1 arra...    True\n",
      "3     1.0    0.0    0.0    1.0   53.0       1 arra...    True\n",
      "4     1.0    0.0    0.0    1.0   53.0       1 arra...    True\n",
      "6     1.0    0.0    0.0    1.0   53.0       1 arra...    True\n",
      "7     1.0    0.0    0.0    1.0   53.0       1 arra...    True\n",
      "8     1.0    0.0    0.0    1.0   53.0       1 arra...    True\n",
      "9     1.0    0.0    0.0    1.0   53.0       1 arra...    True\n",
      "10    1.0    0.0    0.0    1.0   53.0       1 arra...    True\n",
      "11    1.0    0.0    0.0    1.0   53.0       1 arra...    True\n",
      "12    1.0    0.0    0.0    1.0   53.0       1 arra...    True\n",
      "13    1.0    0.0    0.0    1.0   53.0       1 arra...    True\n",
      "14    1.0    0.0    0.0    1.0   53.0       1 arra...    True\n",
      "15    1.0    0.0    0.0    1.0   53.0       1 arra...    True\n",
      "16    1.0    0.0    0.0    1.0   53.0       1 arra...    True\n",
      "17    1.0    0.0    0.0    1.0   53.0       1 arra...    True\n",
      "18    1.0    0.0    0.0    1.0   53.0       1 arra...    True\n",
      "19    1.0    0.0    0.0    1.0   53.0       1 arra...    True\n",
      "20    1.0    0.0    0.0    1.0   53.0       1 arra...    True\n",
      "21    1.0    0.0    0.0    1.0   53.0       1 arra...    True\n",
      "22    1.0    0.0    0.0    1.0   53.0       1 arra...    True\n",
      "23    1.0    0.0    0.0    1.0   53.0       1 arra...    True\n",
      "24    1.0    0.0    0.0    1.0   53.0       1 arra...    True\n",
      "25    1.0    0.0    0.0    1.0   53.0       1 arra...    True\n",
      "26    1.0    0.0    0.0    1.0   53.0       1 arra...    True\n",
      "27    1.0    0.0    0.0    1.0   53.0       1 arra...    True\n",
      "28    1.0    0.0    0.0    1.0   53.0       1 arra...    True\n",
      "29    1.0    0.0    0.0    1.0   53.0       1 arra...    True\n",
      "30    1.0    0.0    0.0    1.0   53.0       1 arra...    True\n",
      "31    1.0    0.0    0.0    1.0   53.0       1 arra...    True\n",
      "32    1.0    0.0    0.0    1.0   53.0       1 arra...    True\n",
      "33    1.0    0.0    0.0    1.0   53.0       1 arra...    True\n",
      "34    1.0    0.0    0.0    1.0   53.0       1 arra...    True\n",
      "35    1.0    0.0    0.0    1.0   53.0       1 arra...    True\n",
      "36    1.0    0.0    0.0    1.0   53.0       1 arra...    True\n",
      "37    1.0    0.0    0.0    1.0   53.0       1 arra...    True\n",
      "38    1.0    0.0    0.0    1.0   53.0       1 arra...    True\n",
      "39    1.0    0.0    0.0    1.0   53.0       1 arra...    True\n",
      "40    1.0    0.0    0.0    1.0   53.0       1 arra...    True\n",
      "41    1.0    0.0    0.0    1.0   53.0       1 arra...    True\n",
      "42    1.0    0.0    0.0    1.0   53.0       1 arra...    True\n",
      "43    1.0    0.0    0.0    1.0   53.0       1 arra...    True\n",
      "44    1.0    0.0    0.0    1.0   53.0       1 arra...    True\n",
      "45    1.0    0.0    0.0    1.0   53.0       1 arra...    True\n",
      "46    1.0    0.0    0.0    1.0   53.0       1 arra...    True\n",
      "47    1.0    0.0    0.0    1.0   53.0       1 arra...    True\n",
      "48    1.0    0.0    0.0    1.0   53.0       1 arra...    True\n",
      "49    1.0    0.0    0.0    1.0   53.0       1 arra...    True\n",
      "50    1.0    0.0    0.0    1.0   53.0       1 arra...    True\n",
      "51    1.0    0.0    0.0    1.0   53.0       1 arra...    True\n",
      "52    1.0    0.0    0.0    1.0   53.0       1 arra...    True\n",
      "53    1.0    0.0    0.0    1.0   53.0       1 arra...    True\n",
      "54    1.0    0.0    0.0    1.0   53.0       1 arra...    True\n",
      "55    1.0    0.0    0.0    1.0   53.0       1 arra...    True\n",
      "56    1.0    0.0    0.0    1.0   53.0       1 arra...    True\n",
      "57    1.0    0.0    0.0    1.0   53.0       1 arra...    True\n",
      "58    1.0    0.0    0.0    1.0   53.0       1 arra...    True\n",
      "59    1.0    0.0    0.0    1.0   53.0       1 arra...    True\n",
      "60    1.0    0.0    0.0    1.0   53.0       1 arra...    True\n",
      "61    1.0    0.0    0.0    1.0   53.0       1 arra...    True\n",
      "62    1.0    0.0    0.0    1.0   53.0       1 arra...    True\n",
      "63    1.0    0.0    0.0    1.0   53.0       1 arra...    True\n",
      "64    1.0    0.0    0.0    1.0   53.0       1 arra...    True\n",
      "65    1.0    0.0    0.0    1.0   53.0       1 arra...    True\n",
      "66    1.0    0.0    0.0    1.0   53.0       1 arra...    True\n",
      "67    1.0    0.0    0.0    1.0   53.0       1 arra...    True\n",
      "68    1.0    0.0    0.0    1.0   53.0       1 arra...    True\n",
      "69    1.0    0.0    0.0    1.0   53.0       1 arra...    True\n",
      "70    1.0    0.0    0.0    1.0   53.0       1 arra...    True\n",
      "71    1.0    0.0    0.0    1.0   53.0       1 arra...    True\n",
      "72    1.0    0.0    0.0    1.0   53.0       1 arra...    True\n",
      "73    1.0    0.0    0.0    1.0   53.0       1 arra...    True\n",
      "74    1.0    0.0    0.0    1.0   53.0       1 arra...    True\n",
      "75    1.0    0.0    0.0    1.0   53.0       1 arra...    True\n",
      "76    1.0    0.0    0.0    1.0   53.0       1 arra...    True\n",
      "77    1.0    0.0    0.0    1.0   53.0       1 arra...    True\n",
      "78    1.0    0.0    0.0    1.0   53.0       1 arra...    True\n",
      "79    1.0    0.0    0.0    1.0   53.0       1 arra...    True\n",
      "80    1.0    0.0    0.0    1.0   53.0       1 arra...    True\n",
      "81    1.0    0.0    0.0    1.0   53.0       1 arra...    True\n",
      "82    1.0    0.0    0.0    1.0   53.0       1 arra...    True\n",
      "83    1.0    0.0    0.0    1.0   53.0       1 arra...    True\n",
      "84    1.0    0.0    0.0    1.0   53.0       1 arra...    True\n",
      "85    1.0    0.0    0.0    1.0   53.0       1 arra...    True\n",
      "86    1.0    0.0    0.0    1.0   53.0       1 arra...    True\n",
      "87    1.0    0.0    0.0    1.0   53.0       1 arra...    True\n",
      "5     0.0    1.0    1.0    0.0   67.0       1 arra...    True\n",
      "88    0.0    1.0    1.0    0.0   67.0       1 arra...    True\n",
      "89    0.0    1.0    1.0    0.0   67.0       1 arra...    True\n",
      "90    0.0    1.0    1.0    0.0   67.0       1 arra...    True\n",
      "91    0.0    1.0    1.0    0.0   67.0       1 arra...    True\n",
      "92    0.0    1.0    1.0    0.0   67.0       1 arra...    True\n",
      "93    0.0    1.0    1.0    0.0   67.0       1 arra...    True\n",
      "94    0.0    1.0    1.0    0.0   67.0       1 arra...    True\n",
      "95    0.0    1.0    1.0    0.0   67.0       1 arra...    True\n",
      "['INTEGER', 96 rows, 96 samples, 4 variables]\n"
     ]
    }
   ],
   "source": [
    "feasible_sampleset = sampleset.filter(lambda d:d.is_feasible)\n",
    "\n",
    "print('# Samples:', len(sampleset))\n",
    "print('# Feasible:', len(feasible_sampleset), \"\\n\")\n",
    "\n",
    "print(feasible_sampleset)"
   ]
  },
  {
   "cell_type": "code",
   "execution_count": 61,
   "metadata": {},
   "outputs": [
    {
     "name": "stdout",
     "output_type": "stream",
     "text": [
      "Sample energy:  53.0 \n",
      "\n",
      "Are all constraints satisfied?  True\n"
     ]
    }
   ],
   "source": [
    "# The best feasible solution found is\n",
    "best = feasible_sampleset.first\n",
    "\n",
    "print(\"Sample energy: \", best.energy, \"\\n\")\n",
    "\n",
    "print(\"Are all constraints satisfied? \", best.is_feasible)"
   ]
  },
  {
   "cell_type": "markdown",
   "metadata": {},
   "source": [
    "#### There are several ways to pass the information from a sampleset."
   ]
  },
  {
   "cell_type": "code",
   "execution_count": 65,
   "metadata": {},
   "outputs": [
    {
     "name": "stdout",
     "output_type": "stream",
     "text": [
      "Sample(sample={(0, 0): 1.0, (0, 1): 0.0, (1, 0): 0.0, (1, 1): 0.0}, energy=9.0)\n",
      "Sample(sample={(0, 0): 1.0, (0, 1): 0.0, (1, 0): 0.0, (1, 1): 0.0}, energy=9.0)\n",
      "Sample(sample={(0, 0): 1.0, (0, 1): 0.0, (1, 0): 0.0, (1, 1): 0.0}, energy=9.0)\n",
      "Sample(sample={(0, 0): 1.0, (0, 1): 0.0, (1, 0): 0.0, (1, 1): 0.0}, energy=9.0)\n",
      "Sample(sample={(0, 0): 1.0, (0, 1): 0.0, (1, 0): 0.0, (1, 1): 0.0}, energy=9.0)\n",
      "Sample(sample={(0, 0): 1.0, (0, 1): 0.0, (1, 0): 0.0, (1, 1): 0.0}, energy=9.0)\n",
      "Sample(sample={(0, 0): 1.0, (0, 1): 0.0, (1, 0): 0.0, (1, 1): 0.0}, energy=9.0)\n",
      "Sample(sample={(0, 0): 1.0, (0, 1): 0.0, (1, 0): 0.0, (1, 1): 0.0}, energy=9.0)\n",
      "Sample(sample={(0, 0): 1.0, (0, 1): 0.0, (1, 0): 0.0, (1, 1): 0.0}, energy=9.0)\n",
      "Sample(sample={(0, 0): 0.0, (0, 1): 1.0, (1, 0): 0.0, (1, 1): 0.0}, energy=19.0)\n",
      "Sample(sample={(0, 0): 0.0, (0, 1): 0.0, (1, 0): 0.0, (1, 1): 1.0}, energy=19.0)\n",
      "Sample(sample={(0, 0): 0.0, (0, 1): 0.0, (1, 0): 0.0, (1, 1): 1.0}, energy=19.0)\n",
      "Sample(sample={(0, 0): 0.0, (0, 1): 1.0, (1, 0): 0.0, (1, 1): 0.0}, energy=19.0)\n",
      "Sample(sample={(0, 0): 0.0, (0, 1): 1.0, (1, 0): 0.0, (1, 1): 0.0}, energy=19.0)\n",
      "Sample(sample={(0, 0): 0.0, (0, 1): 0.0, (1, 0): 0.0, (1, 1): 1.0}, energy=19.0)\n",
      "Sample(sample={(0, 0): 0.0, (0, 1): 0.0, (1, 0): 0.0, (1, 1): 1.0}, energy=19.0)\n",
      "Sample(sample={(0, 0): 0.0, (0, 1): 0.0, (1, 0): 0.0, (1, 1): 1.0}, energy=19.0)\n",
      "Sample(sample={(0, 0): 0.0, (0, 1): 0.0, (1, 0): 0.0, (1, 1): 1.0}, energy=19.0)\n",
      "Sample(sample={(0, 0): 0.0, (0, 1): 0.0, (1, 0): 1.0, (1, 1): 0.0}, energy=20.0)\n",
      "Sample(sample={(0, 0): 0.0, (0, 1): 0.0, (1, 0): 1.0, (1, 1): 0.0}, energy=20.0)\n",
      "Sample(sample={(0, 0): 0.0, (0, 1): 0.0, (1, 0): 1.0, (1, 1): 0.0}, energy=20.0)\n",
      "Sample(sample={(0, 0): 0.0, (0, 1): 0.0, (1, 0): 1.0, (1, 1): 0.0}, energy=20.0)\n",
      "Sample(sample={(0, 0): 0.0, (0, 1): 0.0, (1, 0): 1.0, (1, 1): 0.0}, energy=20.0)\n",
      "Sample(sample={(0, 0): 0.0, (0, 1): 0.0, (1, 0): 1.0, (1, 1): 0.0}, energy=20.0)\n",
      "Sample(sample={(0, 0): 1.0, (0, 1): 0.0, (1, 0): 0.0, (1, 1): 1.0}, energy=53.0)\n",
      "Sample(sample={(0, 0): 1.0, (0, 1): 0.0, (1, 0): 0.0, (1, 1): 1.0}, energy=53.0)\n",
      "Sample(sample={(0, 0): 1.0, (0, 1): 0.0, (1, 0): 0.0, (1, 1): 1.0}, energy=53.0)\n",
      "Sample(sample={(0, 0): 1.0, (0, 1): 0.0, (1, 0): 0.0, (1, 1): 1.0}, energy=53.0)\n",
      "Sample(sample={(0, 0): 1.0, (0, 1): 0.0, (1, 0): 0.0, (1, 1): 1.0}, energy=53.0)\n",
      "Sample(sample={(0, 0): 1.0, (0, 1): 0.0, (1, 0): 0.0, (1, 1): 1.0}, energy=53.0)\n",
      "Sample(sample={(0, 0): 1.0, (0, 1): 0.0, (1, 0): 0.0, (1, 1): 1.0}, energy=53.0)\n",
      "Sample(sample={(0, 0): 1.0, (0, 1): 0.0, (1, 0): 0.0, (1, 1): 1.0}, energy=53.0)\n",
      "Sample(sample={(0, 0): 1.0, (0, 1): 0.0, (1, 0): 0.0, (1, 1): 1.0}, energy=53.0)\n",
      "Sample(sample={(0, 0): 1.0, (0, 1): 0.0, (1, 0): 0.0, (1, 1): 1.0}, energy=53.0)\n",
      "Sample(sample={(0, 0): 1.0, (0, 1): 0.0, (1, 0): 0.0, (1, 1): 1.0}, energy=53.0)\n",
      "Sample(sample={(0, 0): 1.0, (0, 1): 0.0, (1, 0): 0.0, (1, 1): 1.0}, energy=53.0)\n",
      "Sample(sample={(0, 0): 1.0, (0, 1): 0.0, (1, 0): 0.0, (1, 1): 1.0}, energy=53.0)\n",
      "Sample(sample={(0, 0): 1.0, (0, 1): 0.0, (1, 0): 0.0, (1, 1): 1.0}, energy=53.0)\n",
      "Sample(sample={(0, 0): 1.0, (0, 1): 0.0, (1, 0): 0.0, (1, 1): 1.0}, energy=53.0)\n",
      "Sample(sample={(0, 0): 1.0, (0, 1): 0.0, (1, 0): 0.0, (1, 1): 1.0}, energy=53.0)\n",
      "Sample(sample={(0, 0): 1.0, (0, 1): 0.0, (1, 0): 0.0, (1, 1): 1.0}, energy=53.0)\n",
      "Sample(sample={(0, 0): 1.0, (0, 1): 0.0, (1, 0): 0.0, (1, 1): 1.0}, energy=53.0)\n",
      "Sample(sample={(0, 0): 1.0, (0, 1): 0.0, (1, 0): 0.0, (1, 1): 1.0}, energy=53.0)\n",
      "Sample(sample={(0, 0): 1.0, (0, 1): 0.0, (1, 0): 0.0, (1, 1): 1.0}, energy=53.0)\n",
      "Sample(sample={(0, 0): 1.0, (0, 1): 0.0, (1, 0): 0.0, (1, 1): 1.0}, energy=53.0)\n",
      "Sample(sample={(0, 0): 1.0, (0, 1): 0.0, (1, 0): 0.0, (1, 1): 1.0}, energy=53.0)\n",
      "Sample(sample={(0, 0): 1.0, (0, 1): 0.0, (1, 0): 0.0, (1, 1): 1.0}, energy=53.0)\n",
      "Sample(sample={(0, 0): 1.0, (0, 1): 0.0, (1, 0): 0.0, (1, 1): 1.0}, energy=53.0)\n",
      "Sample(sample={(0, 0): 1.0, (0, 1): 0.0, (1, 0): 0.0, (1, 1): 1.0}, energy=53.0)\n",
      "Sample(sample={(0, 0): 1.0, (0, 1): 0.0, (1, 0): 0.0, (1, 1): 1.0}, energy=53.0)\n",
      "Sample(sample={(0, 0): 1.0, (0, 1): 0.0, (1, 0): 0.0, (1, 1): 1.0}, energy=53.0)\n",
      "Sample(sample={(0, 0): 1.0, (0, 1): 0.0, (1, 0): 0.0, (1, 1): 1.0}, energy=53.0)\n",
      "Sample(sample={(0, 0): 1.0, (0, 1): 0.0, (1, 0): 0.0, (1, 1): 1.0}, energy=53.0)\n",
      "Sample(sample={(0, 0): 1.0, (0, 1): 0.0, (1, 0): 0.0, (1, 1): 1.0}, energy=53.0)\n",
      "Sample(sample={(0, 0): 1.0, (0, 1): 0.0, (1, 0): 0.0, (1, 1): 1.0}, energy=53.0)\n",
      "Sample(sample={(0, 0): 1.0, (0, 1): 0.0, (1, 0): 0.0, (1, 1): 1.0}, energy=53.0)\n",
      "Sample(sample={(0, 0): 1.0, (0, 1): 0.0, (1, 0): 0.0, (1, 1): 1.0}, energy=53.0)\n",
      "Sample(sample={(0, 0): 1.0, (0, 1): 0.0, (1, 0): 0.0, (1, 1): 1.0}, energy=53.0)\n",
      "Sample(sample={(0, 0): 1.0, (0, 1): 0.0, (1, 0): 0.0, (1, 1): 1.0}, energy=53.0)\n",
      "Sample(sample={(0, 0): 1.0, (0, 1): 0.0, (1, 0): 0.0, (1, 1): 1.0}, energy=53.0)\n",
      "Sample(sample={(0, 0): 1.0, (0, 1): 0.0, (1, 0): 0.0, (1, 1): 1.0}, energy=53.0)\n",
      "Sample(sample={(0, 0): 1.0, (0, 1): 0.0, (1, 0): 0.0, (1, 1): 1.0}, energy=53.0)\n",
      "Sample(sample={(0, 0): 1.0, (0, 1): 0.0, (1, 0): 0.0, (1, 1): 1.0}, energy=53.0)\n",
      "Sample(sample={(0, 0): 1.0, (0, 1): 0.0, (1, 0): 0.0, (1, 1): 1.0}, energy=53.0)\n",
      "Sample(sample={(0, 0): 1.0, (0, 1): 0.0, (1, 0): 0.0, (1, 1): 1.0}, energy=53.0)\n",
      "Sample(sample={(0, 0): 1.0, (0, 1): 0.0, (1, 0): 0.0, (1, 1): 1.0}, energy=53.0)\n",
      "Sample(sample={(0, 0): 1.0, (0, 1): 0.0, (1, 0): 0.0, (1, 1): 1.0}, energy=53.0)\n",
      "Sample(sample={(0, 0): 1.0, (0, 1): 0.0, (1, 0): 0.0, (1, 1): 1.0}, energy=53.0)\n",
      "Sample(sample={(0, 0): 1.0, (0, 1): 0.0, (1, 0): 0.0, (1, 1): 1.0}, energy=53.0)\n",
      "Sample(sample={(0, 0): 1.0, (0, 1): 0.0, (1, 0): 0.0, (1, 1): 1.0}, energy=53.0)\n",
      "Sample(sample={(0, 0): 1.0, (0, 1): 0.0, (1, 0): 0.0, (1, 1): 1.0}, energy=53.0)\n",
      "Sample(sample={(0, 0): 1.0, (0, 1): 0.0, (1, 0): 0.0, (1, 1): 1.0}, energy=53.0)\n",
      "Sample(sample={(0, 0): 1.0, (0, 1): 0.0, (1, 0): 0.0, (1, 1): 1.0}, energy=53.0)\n",
      "Sample(sample={(0, 0): 1.0, (0, 1): 0.0, (1, 0): 0.0, (1, 1): 1.0}, energy=53.0)\n",
      "Sample(sample={(0, 0): 1.0, (0, 1): 0.0, (1, 0): 0.0, (1, 1): 1.0}, energy=53.0)\n",
      "Sample(sample={(0, 0): 1.0, (0, 1): 0.0, (1, 0): 0.0, (1, 1): 1.0}, energy=53.0)\n",
      "Sample(sample={(0, 0): 1.0, (0, 1): 0.0, (1, 0): 0.0, (1, 1): 1.0}, energy=53.0)\n",
      "Sample(sample={(0, 0): 1.0, (0, 1): 0.0, (1, 0): 0.0, (1, 1): 1.0}, energy=53.0)\n",
      "Sample(sample={(0, 0): 1.0, (0, 1): 0.0, (1, 0): 0.0, (1, 1): 1.0}, energy=53.0)\n",
      "Sample(sample={(0, 0): 1.0, (0, 1): 0.0, (1, 0): 0.0, (1, 1): 1.0}, energy=53.0)\n",
      "Sample(sample={(0, 0): 1.0, (0, 1): 0.0, (1, 0): 0.0, (1, 1): 1.0}, energy=53.0)\n",
      "Sample(sample={(0, 0): 1.0, (0, 1): 0.0, (1, 0): 0.0, (1, 1): 1.0}, energy=53.0)\n",
      "Sample(sample={(0, 0): 1.0, (0, 1): 0.0, (1, 0): 0.0, (1, 1): 1.0}, energy=53.0)\n",
      "Sample(sample={(0, 0): 1.0, (0, 1): 0.0, (1, 0): 0.0, (1, 1): 1.0}, energy=53.0)\n",
      "Sample(sample={(0, 0): 1.0, (0, 1): 0.0, (1, 0): 0.0, (1, 1): 1.0}, energy=53.0)\n",
      "Sample(sample={(0, 0): 1.0, (0, 1): 0.0, (1, 0): 0.0, (1, 1): 1.0}, energy=53.0)\n",
      "Sample(sample={(0, 0): 1.0, (0, 1): 0.0, (1, 0): 0.0, (1, 1): 1.0}, energy=53.0)\n",
      "Sample(sample={(0, 0): 1.0, (0, 1): 0.0, (1, 0): 0.0, (1, 1): 1.0}, energy=53.0)\n",
      "Sample(sample={(0, 0): 1.0, (0, 1): 0.0, (1, 0): 0.0, (1, 1): 1.0}, energy=53.0)\n",
      "Sample(sample={(0, 0): 1.0, (0, 1): 0.0, (1, 0): 0.0, (1, 1): 1.0}, energy=53.0)\n",
      "Sample(sample={(0, 0): 1.0, (0, 1): 0.0, (1, 0): 0.0, (1, 1): 1.0}, energy=53.0)\n",
      "Sample(sample={(0, 0): 1.0, (0, 1): 0.0, (1, 0): 0.0, (1, 1): 1.0}, energy=53.0)\n",
      "Sample(sample={(0, 0): 1.0, (0, 1): 0.0, (1, 0): 0.0, (1, 1): 1.0}, energy=53.0)\n",
      "Sample(sample={(0, 0): 1.0, (0, 1): 0.0, (1, 0): 0.0, (1, 1): 1.0}, energy=53.0)\n",
      "Sample(sample={(0, 0): 1.0, (0, 1): 0.0, (1, 0): 0.0, (1, 1): 1.0}, energy=53.0)\n",
      "Sample(sample={(0, 0): 1.0, (0, 1): 0.0, (1, 0): 0.0, (1, 1): 1.0}, energy=53.0)\n",
      "Sample(sample={(0, 0): 1.0, (0, 1): 0.0, (1, 0): 0.0, (1, 1): 1.0}, energy=53.0)\n",
      "Sample(sample={(0, 0): 1.0, (0, 1): 0.0, (1, 0): 0.0, (1, 1): 1.0}, energy=53.0)\n",
      "Sample(sample={(0, 0): 1.0, (0, 1): 0.0, (1, 0): 0.0, (1, 1): 1.0}, energy=53.0)\n",
      "Sample(sample={(0, 0): 1.0, (0, 1): 0.0, (1, 0): 0.0, (1, 1): 1.0}, energy=53.0)\n",
      "Sample(sample={(0, 0): 1.0, (0, 1): 0.0, (1, 0): 0.0, (1, 1): 1.0}, energy=53.0)\n",
      "Sample(sample={(0, 0): 1.0, (0, 1): 0.0, (1, 0): 0.0, (1, 1): 1.0}, energy=53.0)\n",
      "Sample(sample={(0, 0): 1.0, (0, 1): 0.0, (1, 0): 0.0, (1, 1): 1.0}, energy=53.0)\n",
      "Sample(sample={(0, 0): 1.0, (0, 1): 0.0, (1, 0): 0.0, (1, 1): 1.0}, energy=53.0)\n",
      "Sample(sample={(0, 0): 1.0, (0, 1): 0.0, (1, 0): 0.0, (1, 1): 1.0}, energy=53.0)\n",
      "Sample(sample={(0, 0): 1.0, (0, 1): 0.0, (1, 0): 0.0, (1, 1): 1.0}, energy=53.0)\n",
      "Sample(sample={(0, 0): 1.0, (0, 1): 0.0, (1, 0): 0.0, (1, 1): 1.0}, energy=53.0)\n",
      "Sample(sample={(0, 0): 1.0, (0, 1): 0.0, (1, 0): 0.0, (1, 1): 1.0}, energy=53.0)\n",
      "Sample(sample={(0, 0): 1.0, (0, 1): 0.0, (1, 0): 0.0, (1, 1): 1.0}, energy=53.0)\n",
      "Sample(sample={(0, 0): 1.0, (0, 1): 0.0, (1, 0): 0.0, (1, 1): 1.0}, energy=53.0)\n",
      "Sample(sample={(0, 0): 1.0, (0, 1): 0.0, (1, 0): 0.0, (1, 1): 1.0}, energy=53.0)\n",
      "Sample(sample={(0, 0): 0.0, (0, 1): 1.0, (1, 0): 1.0, (1, 1): 0.0}, energy=67.0)\n",
      "Sample(sample={(0, 0): 0.0, (0, 1): 1.0, (1, 0): 1.0, (1, 1): 0.0}, energy=67.0)\n",
      "Sample(sample={(0, 0): 0.0, (0, 1): 1.0, (1, 0): 1.0, (1, 1): 0.0}, energy=67.0)\n",
      "Sample(sample={(0, 0): 0.0, (0, 1): 1.0, (1, 0): 1.0, (1, 1): 0.0}, energy=67.0)\n",
      "Sample(sample={(0, 0): 0.0, (0, 1): 1.0, (1, 0): 1.0, (1, 1): 0.0}, energy=67.0)\n",
      "Sample(sample={(0, 0): 0.0, (0, 1): 1.0, (1, 0): 1.0, (1, 1): 0.0}, energy=67.0)\n",
      "Sample(sample={(0, 0): 0.0, (0, 1): 1.0, (1, 0): 1.0, (1, 1): 0.0}, energy=67.0)\n",
      "Sample(sample={(0, 0): 0.0, (0, 1): 1.0, (1, 0): 1.0, (1, 1): 0.0}, energy=67.0)\n",
      "Sample(sample={(0, 0): 0.0, (0, 1): 1.0, (1, 0): 1.0, (1, 1): 0.0}, energy=67.0)\n"
     ]
    }
   ],
   "source": [
    "# Looping through the data.\n",
    "for datum in sampleset.data(fields=['sample', 'energy']):\n",
    "    print(datum)"
   ]
  },
  {
   "cell_type": "code",
   "execution_count": 69,
   "metadata": {},
   "outputs": [
    {
     "name": "stdout",
     "output_type": "stream",
     "text": [
      "dict_keys(['energy', 'num_occurrences', 'is_satisfied', 'is_feasible'])\n"
     ]
    }
   ],
   "source": [
    "# As a Dictionary.\n",
    "dictionary = sampleset.data_vectors\n",
    "print(dictionary.keys())"
   ]
  },
  {
   "cell_type": "code",
   "execution_count": 73,
   "metadata": {},
   "outputs": [
    {
     "name": "stdout",
     "output_type": "stream",
     "text": [
      "[([1., 0., 0., 1.], 53., 1, [ True,  True,  True,  True],  True)\n",
      " ([1., 0., 0., 1.], 53., 1, [ True,  True,  True,  True],  True)\n",
      " ([1., 0., 0., 1.], 53., 1, [ True,  True,  True,  True],  True)]\n"
     ]
    }
   ],
   "source": [
    "# As a NumPy recarray.\n",
    "array = sampleset.record\n",
    "print(array[:3])"
   ]
  },
  {
   "cell_type": "code",
   "execution_count": 67,
   "metadata": {},
   "outputs": [],
   "source": [
    "# As a Pandas dataframe.\n",
    "dataframe = sampleset.to_pandas_dataframe(True)"
   ]
  },
  {
   "cell_type": "markdown",
   "metadata": {},
   "source": [
    "#### Pandas even has some of its own quick charting functions."
   ]
  },
  {
   "cell_type": "code",
   "execution_count": 68,
   "metadata": {},
   "outputs": [
    {
     "data": {
      "text/plain": [
       "array([[<AxesSubplot:title={'center':'energy'}>,\n",
       "        <AxesSubplot:title={'center':'num_occurrences'}>]], dtype=object)"
      ]
     },
     "execution_count": 68,
     "metadata": {},
     "output_type": "execute_result"
    },
    {
     "data": {
      "image/png": "[encoded data removed]",
      "text/plain": [
       "<Figure size 432x288 with 2 Axes>"
      ]
     },
     "metadata": {
      "needs_background": "light"
     },
     "output_type": "display_data"
    }
   ],
   "source": [
    "dataframe.hist()"
   ]
  },
  {
   "cell_type": "code",
   "execution_count": 74,
   "metadata": {},
   "outputs": [
    {
     "data": {
      "text/plain": [
       "<AxesSubplot:>"
      ]
     },
     "execution_count": 74,
     "metadata": {},
     "output_type": "execute_result"
    },
    {
     "data": {
      "image/png": "[encoded data removed]",
      "text/plain": [
       "<Figure size 432x288 with 1 Axes>"
      ]
     },
     "metadata": {
      "needs_background": "light"
     },
     "output_type": "display_data"
    }
   ],
   "source": [
    "dataframe.boxplot('energy')"
   ]
  }
 ],
 "metadata": {
  "kernelspec": {
   "display_name": "Python 3 (ipykernel)",
   "language": "python",
   "name": "python3"
  },
  "language_info": {
   "codemirror_mode": {
    "name": "ipython",
    "version": 3
   },
   "file_extension": ".py",
   "mimetype": "text/x-python",
   "name": "python",
   "nbconvert_exporter": "python",
   "pygments_lexer": "ipython3",
   "version": "3.8.9"
  }
 },
 "nbformat": 4,
 "nbformat_minor": 4
}
