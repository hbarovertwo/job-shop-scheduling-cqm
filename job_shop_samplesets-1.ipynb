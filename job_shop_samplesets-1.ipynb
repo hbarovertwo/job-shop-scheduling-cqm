{
 "cells": [
  {
   "cell_type": "markdown",
   "metadata": {},
   "source": [
    "# Working with samplesets"
   ]
  },
  {
   "cell_type": "markdown",
   "metadata": {},
   "source": [
    "First, we need a model to submit to the CQM Hybrid Solver through Leap.<br>\n",
    "For this example, we will submit a CQM based on a Quadratic Assignment Problem.\n",
    "\n",
    "### Build a CQM"
   ]
  },
  {
   "cell_type": "code",
   "execution_count": null,
   "metadata": {},
   "outputs": [],
   "source": [
    "from dimod import ConstrainedQuadraticModel\n",
    "import random\n",
    "\n",
    "# Set size parameter. Model will have n^2 variables.\n",
    "n=2\n",
    "\n",
    "# Instantiate CQM and add grid of variables\n",
    "cqm = ConstrainedQuadraticModel()\n",
    "cqm.add_variables('BINARY', [(a,b) for a in range(n) for b in range(n)])\n",
    "\n",
    "# Add psuedorandom dense objective.\n",
    "random.seed(1)\n",
    "cqm.set_objective([(v,w,random.randint(5,20)) for v in cqm.variables for w in cqm.variables])\n",
    "\n",
    "# Add assignment constraint.\n",
    "for i in range(n):\n",
    "    cqm.add_constraint_from_iterable([((i,j), 1) for j in range(n)], '==', rhs=1, label=f'({i},*)')\n",
    "    cqm.add_constraint_from_iterable([((j,i), 1) for j in range(n)], '==', rhs=1, label=f'(*, {i})')\n",
    "    \n",
    "print('Number of Variables:', len(cqm.variables))"
   ]
  },
  {
   "cell_type": "markdown",
   "metadata": {},
   "source": [
    "### Get a sampleset by submitting the CQM to the solver"
   ]
  },
  {
   "cell_type": "code",
   "execution_count": null,
   "metadata": {},
   "outputs": [],
   "source": [
    "from dwave.system import LeapHybridCQMSampler\n",
    "\n",
    "cqm_sampler = LeapHybridCQMSampler()\n",
    "\n",
    "sampleset = cqm_sampler.sample_cqm(cqm, time_limit=5)"
   ]
  },
  {
   "cell_type": "markdown",
   "metadata": {},
   "source": [
    "#### Raw samplesets are best viewed with a print call"
   ]
  },
  {
   "cell_type": "code",
   "execution_count": null,
   "metadata": {},
   "outputs": [],
   "source": [
    "print(sampleset)"
   ]
  },
  {
   "cell_type": "markdown",
   "metadata": {},
   "source": [
    "#### Get some useful metrics for potential plots you might want to generate!<br>Reported times are measured in microseconds."
   ]
  },
  {
   "cell_type": "code",
   "execution_count": null,
   "metadata": {},
   "outputs": [],
   "source": [
    "for key, value in sampleset.info.items():\n",
    "    print(key, value,'\\n')"
   ]
  },
  {
   "cell_type": "markdown",
   "metadata": {},
   "source": [
    "#### What about the solution quality?<br>We can look at the best solution in general (maybe infeasible) or filter for the best feasible solution found."
   ]
  },
  {
   "cell_type": "code",
   "execution_count": null,
   "metadata": {},
   "outputs": [],
   "source": [
    "# Best solution (objective minimized)\n",
    "print(sampleset.first, \"\\n\")\n",
    "\n",
    "print(\"Sample energy: \", sampleset.first.energy, \"\\n\")\n",
    "\n",
    "print(\"Are all constraints satisfied? \", sampleset.first.is_feasible)"
   ]
  },
  {
   "cell_type": "markdown",
   "metadata": {},
   "source": [
    "#### Let's filter for the best feasible sample - where all hard constraints are satisfied."
   ]
  },
  {
   "cell_type": "code",
   "execution_count": null,
   "metadata": {
    "scrolled": true
   },
   "outputs": [],
   "source": [
    "feasible_sampleset = sampleset.filter(lambda d:d.is_feasible)\n",
    "\n",
    "print('# Samples:', len(sampleset))\n",
    "print('# Feasible:', len(feasible_sampleset), \"\\n\")\n",
    "\n",
    "print(feasible_sampleset)"
   ]
  },
  {
   "cell_type": "code",
   "execution_count": null,
   "metadata": {},
   "outputs": [],
   "source": [
    "# The best feasible solution found is\n",
    "best = feasible_sampleset.first\n",
    "\n",
    "print(\"Sample energy: \", best.energy, \"\\n\")\n",
    "\n",
    "print(\"Are all constraints satisfied? \", best.is_feasible)"
   ]
  },
  {
   "cell_type": "markdown",
   "metadata": {},
   "source": [
    "#### There are several ways to pass the information from a sampleset."
   ]
  },
  {
   "cell_type": "code",
   "execution_count": null,
   "metadata": {},
   "outputs": [],
   "source": [
    "# Looping through the data.\n",
    "for datum in sampleset.data(fields=['sample', 'energy']):\n",
    "    print(datum)"
   ]
  },
  {
   "cell_type": "code",
   "execution_count": null,
   "metadata": {},
   "outputs": [],
   "source": [
    "# As a Dictionary.\n",
    "dictionary = sampleset.data_vectors\n",
    "print(dictionary.keys())"
   ]
  },
  {
   "cell_type": "code",
   "execution_count": null,
   "metadata": {},
   "outputs": [],
   "source": [
    "# As a NumPy recarray.\n",
    "array = sampleset.record\n",
    "print(array[:3])"
   ]
  },
  {
   "cell_type": "code",
   "execution_count": null,
   "metadata": {},
   "outputs": [],
   "source": [
    "# As a Pandas dataframe.\n",
    "dataframe = sampleset.to_pandas_dataframe(True)"
   ]
  },
  {
   "cell_type": "markdown",
   "metadata": {},
   "source": [
    "#### Pandas even has some of its own quick charting functions."
   ]
  },
  {
   "cell_type": "code",
   "execution_count": null,
   "metadata": {},
   "outputs": [],
   "source": [
    "dataframe.hist()"
   ]
  },
  {
   "cell_type": "code",
   "execution_count": null,
   "metadata": {},
   "outputs": [],
   "source": [
    "dataframe.boxplot('energy')"
   ]
  }
 ],
 "metadata": {
  "kernelspec": {
   "display_name": "job_shop",
   "language": "python",
   "name": "job_shop"
  },
  "language_info": {
   "codemirror_mode": {
    "name": "ipython",
    "version": 3
   },
   "file_extension": ".py",
   "mimetype": "text/x-python",
   "name": "python",
   "nbconvert_exporter": "python",
   "pygments_lexer": "ipython3",
   "version": "3.8.3"
  }
 },
 "nbformat": 4,
 "nbformat_minor": 4
}
